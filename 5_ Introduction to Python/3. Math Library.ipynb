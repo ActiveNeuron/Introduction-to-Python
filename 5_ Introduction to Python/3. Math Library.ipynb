{
 "cells": [
  {
   "cell_type": "markdown",
   "metadata": {
    "colab_type": "text",
    "deletable": true,
    "editable": true,
    "id": "CyhvwAJPJdiY"
   },
   "source": [
    "**Math Library**\n",
    "\n",
    "1.   Pi\n",
    "2.   Euler\n",
    "3.   Infinity\n",
    "4.   nan\n",
    "5.   Log\n",
    "6.   Log with base 10\n",
    "7.   Exponential\n",
    "8.   SquareRoot"
   ]
  },
  {
   "cell_type": "code",
   "execution_count": 2,
   "metadata": {
    "colab": {
     "base_uri": "https://localhost:8080/",
     "height": 35
    },
    "colab_type": "code",
    "collapsed": false,
    "deletable": true,
    "editable": true,
    "executionInfo": {
     "elapsed": 1174,
     "status": "ok",
     "timestamp": 1549781143422,
     "user": {
      "displayName": "Deep Learning",
      "photoUrl": "",
      "userId": "06629241092232663195"
     },
     "user_tz": -330
    },
    "id": "vMGL6zDTJfcB",
    "outputId": "3e65875b-147c-4d64-8a1d-8db5d20229fe"
   },
   "outputs": [
    {
     "name": "stdout",
     "output_type": "stream",
     "text": [
      "3.141592653589793\n"
     ]
    }
   ],
   "source": [
    "import math\n",
    "print(math.pi)"
   ]
  },
  {
   "cell_type": "code",
   "execution_count": 1,
   "metadata": {
    "collapsed": false
   },
   "outputs": [
    {
     "name": "stdout",
     "output_type": "stream",
     "text": [
      "2.718281828459045\n"
     ]
    }
   ],
   "source": [
    "import math\n",
    "print(math.e)"
   ]
  },
  {
   "cell_type": "code",
   "execution_count": 0,
   "metadata": {
    "colab": {
     "base_uri": "https://localhost:8080/",
     "height": 35
    },
    "colab_type": "code",
    "collapsed": false,
    "deletable": true,
    "editable": true,
    "executionInfo": {
     "elapsed": 570,
     "status": "ok",
     "timestamp": 1549781143423,
     "user": {
      "displayName": "Deep Learning",
      "photoUrl": "",
      "userId": "06629241092232663195"
     },
     "user_tz": -330
    },
    "id": "5vUxhcINJfeq",
    "outputId": "5165059f-e9e9-4226-d00d-12f3d7fd7e25"
   },
   "outputs": [
    {
     "name": "stdout",
     "output_type": "stream",
     "text": [
      "inf\n"
     ]
    }
   ],
   "source": [
    "import math\n",
    "print(math.inf)"
   ]
  },
  {
   "cell_type": "code",
   "execution_count": 3,
   "metadata": {
    "colab": {},
    "colab_type": "code",
    "collapsed": false,
    "deletable": true,
    "editable": true,
    "id": "sBRorDjKJfhh"
   },
   "outputs": [
    {
     "name": "stdout",
     "output_type": "stream",
     "text": [
      "inf\n",
      "inf\n"
     ]
    }
   ],
   "source": [
    "print(math.inf)\n",
    "print(math.inf + 2)"
   ]
  },
  {
   "cell_type": "code",
   "execution_count": 2,
   "metadata": {
    "colab": {},
    "colab_type": "code",
    "collapsed": false,
    "deletable": true,
    "editable": true,
    "id": "ORhVzcyKJflz"
   },
   "outputs": [
    {
     "data": {
      "text/plain": [
       "nan"
      ]
     },
     "execution_count": 2,
     "metadata": {},
     "output_type": "execute_result"
    }
   ],
   "source": [
    "math.nan"
   ]
  },
  {
   "cell_type": "code",
   "execution_count": 5,
   "metadata": {
    "colab": {},
    "colab_type": "code",
    "collapsed": false,
    "deletable": true,
    "editable": true,
    "id": "alRiDZv1Jfoa"
   },
   "outputs": [
    {
     "name": "stdout",
     "output_type": "stream",
     "text": [
      "0.6931471805599453\n"
     ]
    }
   ],
   "source": [
    "print(math.log(2))"
   ]
  },
  {
   "cell_type": "code",
   "execution_count": 4,
   "metadata": {
    "colab": {},
    "colab_type": "code",
    "collapsed": false,
    "deletable": true,
    "editable": true,
    "id": "2PtlLe6SJfkK"
   },
   "outputs": [
    {
     "name": "stdout",
     "output_type": "stream",
     "text": [
      "0.30102999566398114\n"
     ]
    }
   ],
   "source": [
    "print(math.log(2,10))"
   ]
  },
  {
   "cell_type": "code",
   "execution_count": 0,
   "metadata": {
    "colab": {},
    "colab_type": "code",
    "collapsed": true,
    "deletable": true,
    "editable": true,
    "id": "n0_tgQLKJ3lv"
   },
   "outputs": [],
   "source": [
    "print(math.sqrt(4))"
   ]
  },
  {
   "cell_type": "markdown",
   "metadata": {
    "colab_type": "text",
    "deletable": true,
    "editable": true,
    "id": "-0a_Gyo2Klea"
   },
   "source": [
    "**Trigonomatric Functions** \n",
    "\n",
    "\n",
    "1.   Sin\n",
    "2.   Cos\n",
    "3.   Tan"
   ]
  },
  {
   "cell_type": "code",
   "execution_count": 0,
   "metadata": {
    "colab": {},
    "colab_type": "code",
    "collapsed": true,
    "deletable": true,
    "editable": true,
    "id": "LtopbWsbKpaA"
   },
   "outputs": [],
   "source": [
    "a = math.sin(10)\n",
    "print(a)\n",
    "\n",
    "b = math.cos(10)\n",
    "print(b)\n",
    "\n",
    "c = math.tan(10)\n",
    "print(c)"
   ]
  },
  {
   "cell_type": "markdown",
   "metadata": {
    "colab_type": "text",
    "deletable": true,
    "editable": true,
    "id": "z2GSaDhMKw-H"
   },
   "source": [
    "**Hyperbolic Functions**\n",
    "\n",
    "\n",
    "1.   sinh\n",
    "2.   cosh\n",
    "3.   tanh"
   ]
  },
  {
   "cell_type": "code",
   "execution_count": 10,
   "metadata": {
    "colab": {
     "base_uri": "https://localhost:8080/",
     "height": 72
    },
    "colab_type": "code",
    "collapsed": false,
    "deletable": true,
    "editable": true,
    "executionInfo": {
     "elapsed": 948,
     "status": "ok",
     "timestamp": 1549781392782,
     "user": {
      "displayName": "Deep Learning",
      "photoUrl": "",
      "userId": "06629241092232663195"
     },
     "user_tz": -330
    },
    "id": "cpLjGSqgKpfO",
    "outputId": "176220d0-7468-410a-9d57-f87d435324cc"
   },
   "outputs": [
    {
     "name": "stdout",
     "output_type": "stream",
     "text": [
      "3.626860407847019\n",
      "74.20994852478785\n",
      "0.9999092042625951\n"
     ]
    }
   ],
   "source": [
    "print(math.sinh(2))\n",
    "print(math.cosh(5))\n",
    "print(math.tanh(5))"
   ]
  },
  {
   "cell_type": "markdown",
   "metadata": {
    "colab_type": "text",
    "deletable": true,
    "editable": true,
    "id": "Pn_8TKqBK-fn"
   },
   "source": [
    "**Angular Cobversion**\n",
    "\n",
    "1.   Radian to degree\n",
    "2.   Degree to radian"
   ]
  },
  {
   "cell_type": "code",
   "execution_count": 11,
   "metadata": {
    "colab": {
     "base_uri": "https://localhost:8080/",
     "height": 35
    },
    "colab_type": "code",
    "collapsed": false,
    "deletable": true,
    "editable": true,
    "executionInfo": {
     "elapsed": 1014,
     "status": "ok",
     "timestamp": 1549781449122,
     "user": {
      "displayName": "Deep Learning",
      "photoUrl": "",
      "userId": "06629241092232663195"
     },
     "user_tz": -330
    },
    "id": "ItEiStdsK2ER",
    "outputId": "f610b5e0-5ae4-4750-8165-55733c2ad257"
   },
   "outputs": [
    {
     "data": {
      "text/plain": [
       "90.0"
      ]
     },
     "execution_count": 11,
     "metadata": {
      "tags": []
     },
     "output_type": "execute_result"
    }
   ],
   "source": [
    "math.degrees(math.pi/2)"
   ]
  },
  {
   "cell_type": "code",
   "execution_count": 12,
   "metadata": {
    "colab": {
     "base_uri": "https://localhost:8080/",
     "height": 35
    },
    "colab_type": "code",
    "collapsed": false,
    "deletable": true,
    "editable": true,
    "executionInfo": {
     "elapsed": 782,
     "status": "ok",
     "timestamp": 1549781449632,
     "user": {
      "displayName": "Deep Learning",
      "photoUrl": "",
      "userId": "06629241092232663195"
     },
     "user_tz": -330
    },
    "id": "Kac3W-wfKpui",
    "outputId": "d5775a78-5af3-4517-8188-6703a00277af"
   },
   "outputs": [
    {
     "data": {
      "text/plain": [
       "1.5707963267948966"
      ]
     },
     "execution_count": 12,
     "metadata": {
      "tags": []
     },
     "output_type": "execute_result"
    }
   ],
   "source": [
    "math.radians(90)"
   ]
  },
  {
   "cell_type": "markdown",
   "metadata": {
    "deletable": true,
    "editable": true
   },
   "source": [
    "#### Square Root "
   ]
  },
  {
   "cell_type": "code",
   "execution_count": 6,
   "metadata": {
    "collapsed": false,
    "deletable": true,
    "editable": true
   },
   "outputs": [
    {
     "name": "stdout",
     "output_type": "stream",
     "text": [
      "2.0\n"
     ]
    }
   ],
   "source": [
    "print(math.sqrt(4))"
   ]
  },
  {
   "cell_type": "markdown",
   "metadata": {
    "deletable": true,
    "editable": true
   },
   "source": [
    "#### Exponential "
   ]
  },
  {
   "cell_type": "code",
   "execution_count": 7,
   "metadata": {
    "collapsed": false,
    "deletable": true,
    "editable": true
   },
   "outputs": [
    {
     "name": "stdout",
     "output_type": "stream",
     "text": [
      "54.598150033144236\n"
     ]
    }
   ],
   "source": [
    "print(math.exp(4))"
   ]
  },
  {
   "cell_type": "code",
   "execution_count": null,
   "metadata": {
    "collapsed": true,
    "deletable": true,
    "editable": true
   },
   "outputs": [],
   "source": []
  }
 ],
 "metadata": {
  "colab": {
   "name": "3. Math Library.ipynb",
   "provenance": [],
   "version": "0.3.2"
  },
  "kernelspec": {
   "display_name": "Python 3",
   "language": "python",
   "name": "python3"
  },
  "language_info": {
   "codemirror_mode": {
    "name": "ipython",
    "version": 3
   },
   "file_extension": ".py",
   "mimetype": "text/x-python",
   "name": "python",
   "nbconvert_exporter": "python",
   "pygments_lexer": "ipython3",
   "version": "3.5.0"
  }
 },
 "nbformat": 4,
 "nbformat_minor": 0
}
