{
 "cells": [
  {
   "cell_type": "markdown",
   "metadata": {
    "colab_type": "text",
    "deletable": true,
    "editable": true,
    "id": "tXwzeQOqNah3"
   },
   "source": [
    "1.   Capitalize\n",
    "2.   Uppercse\n",
    "3.   Lowercase\n",
    "4.   Rightjustify\n",
    "5.   Center\n",
    "6.   Replace\n",
    "7.   Double inside single\n",
    "8.   Single inside double\n",
    "9.   Escape the double quotes\n",
    "10.  Escape the single quotes\n",
    "11. Use triple-quoted strings\n",
    "12. Concatenation\n",
    "13. Slicing Operations can be Performed\n",
    "14. Multiplying the string\n",
    "15. String in string checking\n",
    "16. Make it as Title\n",
    "17. Count\n",
    "18. Find\n",
    "19. Join Keyword\n",
    "20. IsDigit Keyword\n",
    "21. Strip (lstrip strip rstrip)\n",
    "22. Split\n",
    "23. Reverse\n"
   ]
  },
  {
   "cell_type": "code",
   "execution_count": 1,
   "metadata": {
    "colab": {
     "base_uri": "https://localhost:8080/",
     "height": 254
    },
    "colab_type": "code",
    "collapsed": false,
    "deletable": true,
    "editable": true,
    "executionInfo": {
     "elapsed": 991,
     "status": "ok",
     "timestamp": 1549782119732,
     "user": {
      "displayName": "Deep Learning",
      "photoUrl": "",
      "userId": "06629241092232663195"
     },
     "user_tz": -330
    },
    "id": "v1CqMyuVNbQH",
    "outputId": "657f5d36-5c93-42f6-a74b-983b3541e7ce"
   },
   "outputs": [
    {
     "name": "stdout",
     "output_type": "stream",
     "text": [
      "Hi\n",
      "HI\n",
      "   hi\n",
      "hi\n",
      "hi\n",
      "hello hi\n",
      "8\n",
      "a\n",
      "HelloHello\n",
      "Mera Bharath Mahan\n",
      "5\n",
      "3\n"
     ]
    },
    {
     "data": {
      "text/plain": [
       "False"
      ]
     },
     "execution_count": 1,
     "metadata": {
      "tags": []
     },
     "output_type": "execute_result"
    }
   ],
   "source": [
    "s = 'hi'\n",
    "print(s.capitalize())\n",
    "print(s.upper())\n",
    "print(s.rjust(5))\n",
    "print(s.center(2))\n",
    "print(s.replace('n','N'))\n",
    "\n",
    "a = \"hello\" +' '+ \"hi\"\n",
    "print(a)\n",
    "print(len(a))\n",
    "\n",
    "s = \"abcdefg\"\n",
    "print(s[0]) #Follwed by some slicing operations\n",
    "\n",
    "a = 'Hello'\n",
    "print(a*2)\n",
    "\n",
    "'Pawan' in 'PawanSNJ'\n",
    "\n",
    "a = \"mera bharath mahan\"\n",
    "print(a.title())\n",
    "\n",
    "b = a.count('a')\n",
    "print(b)\n",
    "\n",
    "\n",
    "c = a.find('a')\n",
    "print(c)\n",
    "\n",
    "a = [\"Mera\",\"Bharath\",\"Mahan\"]\n",
    "\"\".join(a)\n",
    "\n",
    "\n",
    "\"55\".isdigit()\n",
    "\n",
    "\"tt\".isdigit()"
   ]
  },
  {
   "cell_type": "code",
   "execution_count": 2,
   "metadata": {
    "colab": {
     "base_uri": "https://localhost:8080/",
     "height": 72
    },
    "colab_type": "code",
    "collapsed": false,
    "deletable": true,
    "editable": true,
    "executionInfo": {
     "elapsed": 929,
     "status": "ok",
     "timestamp": 1549782129600,
     "user": {
      "displayName": "Deep Learning",
      "photoUrl": "",
      "userId": "06629241092232663195"
     },
     "user_tz": -330
    },
    "id": "QbiikTSsNl0W",
    "outputId": "2629dcae-5047-4c39-8cca-0e38f865dfc6"
   },
   "outputs": [
    {
     "name": "stdout",
     "output_type": "stream",
     "text": [
      "mera bharath mahan\n",
      "mera bharath mahan\n",
      "mera bharath mahan\n"
     ]
    }
   ],
   "source": [
    "a = \"mera bharath mahan\"\n",
    "c = a.strip()\n",
    "print(c)\n",
    "\n",
    "d = a.lstrip()\n",
    "print(d)\n",
    "\n",
    "e = a.rstrip()\n",
    "print(e)"
   ]
  },
  {
   "cell_type": "code",
   "execution_count": 0,
   "metadata": {
    "colab": {},
    "colab_type": "code",
    "collapsed": true,
    "deletable": true,
    "editable": true,
    "id": "IR48a6wYNui2"
   },
   "outputs": [],
   "source": [
    "def username():\n",
    "  fname = str(input(\"Enter Firstname\"))\n",
    "  lname = str(input(\"Enter Lastname\"))\n",
    "  pos =  \" \"\n",
    "  res = fname+pos+lname\n",
    "  print(\"Your Name Is:\",res)"
   ]
  },
  {
   "cell_type": "code",
   "execution_count": 4,
   "metadata": {
    "colab": {
     "base_uri": "https://localhost:8080/",
     "height": 72
    },
    "colab_type": "code",
    "collapsed": false,
    "deletable": true,
    "editable": true,
    "executionInfo": {
     "elapsed": 5803,
     "status": "ok",
     "timestamp": 1549782167281,
     "user": {
      "displayName": "Deep Learning",
      "photoUrl": "",
      "userId": "06629241092232663195"
     },
     "user_tz": -330
    },
    "id": "r1MTh-bXNw6N",
    "outputId": "dadeb8dc-2082-46f0-cf9d-c137ef1be1c0"
   },
   "outputs": [
    {
     "name": "stdout",
     "output_type": "stream",
     "text": [
      "Enter Firstnamea\n",
      "Enter Lastnamev\n",
      "Your Name Is: a v\n"
     ]
    }
   ],
   "source": [
    "username()"
   ]
  }
 ],
 "metadata": {
  "colab": {
   "name": "8 String operations.ipynb",
   "provenance": [],
   "version": "0.3.2"
  },
  "kernelspec": {
   "display_name": "Python 3",
   "language": "python",
   "name": "python3"
  },
  "language_info": {
   "codemirror_mode": {
    "name": "ipython",
    "version": 3
   },
   "file_extension": ".py",
   "mimetype": "text/x-python",
   "name": "python",
   "nbconvert_exporter": "python",
   "pygments_lexer": "ipython3",
   "version": "3.5.0"
  }
 },
 "nbformat": 4,
 "nbformat_minor": 0
}
