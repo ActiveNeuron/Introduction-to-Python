{
 "cells": [
  {
   "cell_type": "markdown",
   "metadata": {
    "colab_type": "text",
    "deletable": true,
    "editable": true,
    "id": "HQKU5P_JMZMv"
   },
   "source": [
    "**Basic Data Types**\n",
    "\n",
    "\n",
    "1.   Integer\n",
    "2.   Float"
   ]
  },
  {
   "cell_type": "code",
   "execution_count": 1,
   "metadata": {
    "colab": {
     "base_uri": "https://localhost:8080/",
     "height": 54
    },
    "colab_type": "code",
    "collapsed": false,
    "deletable": true,
    "editable": true,
    "executionInfo": {
     "elapsed": 925,
     "status": "ok",
     "timestamp": 1549781840809,
     "user": {
      "displayName": "Deep Learning",
      "photoUrl": "",
      "userId": "06629241092232663195"
     },
     "user_tz": -330
    },
    "id": "DxoOncaPMZ81",
    "outputId": "751e24f1-369f-4bd1-a3b4-9a5f96bc110b"
   },
   "outputs": [
    {
     "name": "stdout",
     "output_type": "stream",
     "text": [
      "<class 'int'>\n",
      "<class 'float'>\n"
     ]
    }
   ],
   "source": [
    "x = 3\n",
    "y = 3.5\n",
    "print(type(3))\n",
    "print(type(3.5))"
   ]
  },
  {
   "cell_type": "markdown",
   "metadata": {
    "colab_type": "text",
    "deletable": true,
    "editable": true,
    "id": "YYrvXBOZMkMV"
   },
   "source": [
    "**Arithmatic Operations**\n",
    "\n",
    "1.   Addition\n",
    "2.   Subtraction\n",
    "3.   Multipliction\n",
    "4.   Division \n"
   ]
  },
  {
   "cell_type": "code",
   "execution_count": 2,
   "metadata": {
    "colab": {
     "base_uri": "https://localhost:8080/",
     "height": 90
    },
    "colab_type": "code",
    "collapsed": false,
    "deletable": true,
    "editable": true,
    "executionInfo": {
     "elapsed": 912,
     "status": "ok",
     "timestamp": 1549781861895,
     "user": {
      "displayName": "Deep Learning",
      "photoUrl": "",
      "userId": "06629241092232663195"
     },
     "user_tz": -330
    },
    "id": "2A_NkivQMldE",
    "outputId": "42feebf9-e3b2-43ff-b9d8-8d2b7c5b9117"
   },
   "outputs": [
    {
     "name": "stdout",
     "output_type": "stream",
     "text": [
      "10\n",
      "0\n",
      "25\n",
      "5.0\n"
     ]
    }
   ],
   "source": [
    "x = 5\n",
    "print(x+5)    \n",
    "print(x-5)\n",
    "print(x*5)\n",
    "print(x/1)"
   ]
  },
  {
   "cell_type": "markdown",
   "metadata": {
    "colab_type": "text",
    "deletable": true,
    "editable": true,
    "id": "-2RPi8qQMohc"
   },
   "source": [
    "**Eval Keyword**"
   ]
  },
  {
   "cell_type": "code",
   "execution_count": 3,
   "metadata": {
    "colab": {
     "base_uri": "https://localhost:8080/",
     "height": 90
    },
    "colab_type": "code",
    "collapsed": false,
    "deletable": true,
    "editable": true,
    "executionInfo": {
     "elapsed": 1061,
     "status": "ok",
     "timestamp": 1549781886853,
     "user": {
      "displayName": "Deep Learning",
      "photoUrl": "",
      "userId": "06629241092232663195"
     },
     "user_tz": -330
    },
    "id": "mpefuTpiMsUJ",
    "outputId": "57eb3d50-6f6c-486d-ca22-dcc298773612"
   },
   "outputs": [
    {
     "name": "stdout",
     "output_type": "stream",
     "text": [
      "6\n",
      "9\n",
      "1.0\n",
      "0\n"
     ]
    }
   ],
   "source": [
    "print(eval(\"3+3\"))\n",
    "print(eval(\"3*3\"))\n",
    "print(eval(\"3/3\"))\n",
    "print(eval(\"3-3\"))"
   ]
  },
  {
   "cell_type": "markdown",
   "metadata": {
    "colab_type": "text",
    "deletable": true,
    "editable": true,
    "id": "HkHm2mVgMww_"
   },
   "source": [
    "**Booleans**"
   ]
  },
  {
   "cell_type": "code",
   "execution_count": 4,
   "metadata": {
    "colab": {
     "base_uri": "https://localhost:8080/",
     "height": 54
    },
    "colab_type": "code",
    "collapsed": false,
    "deletable": true,
    "editable": true,
    "executionInfo": {
     "elapsed": 913,
     "status": "ok",
     "timestamp": 1549781909272,
     "user": {
      "displayName": "Deep Learning",
      "photoUrl": "",
      "userId": "06629241092232663195"
     },
     "user_tz": -330
    },
    "id": "7Gn1NqKKMwPJ",
    "outputId": "a710b5de-a53a-4383-de9e-632e7527e166"
   },
   "outputs": [
    {
     "name": "stdout",
     "output_type": "stream",
     "text": [
      "<class 'bool'>\n",
      "<class 'bool'>\n"
     ]
    }
   ],
   "source": [
    "t,f = True,False\n",
    "print(type(t))\n",
    "print(type(f))"
   ]
  },
  {
   "cell_type": "markdown",
   "metadata": {
    "colab_type": "text",
    "deletable": true,
    "editable": true,
    "id": "T0pIl2JaM5VH"
   },
   "source": [
    "**Task1**\n",
    "\n",
    "\n",
    "**Logical Operations**\n",
    "\n",
    "\n",
    "1.   AND\n",
    "2.   OR"
   ]
  },
  {
   "cell_type": "code",
   "execution_count": 5,
   "metadata": {
    "colab": {
     "base_uri": "https://localhost:8080/",
     "height": 90
    },
    "colab_type": "code",
    "collapsed": false,
    "deletable": true,
    "editable": true,
    "executionInfo": {
     "elapsed": 898,
     "status": "ok",
     "timestamp": 1549781955745,
     "user": {
      "displayName": "Deep Learning",
      "photoUrl": "",
      "userId": "06629241092232663195"
     },
     "user_tz": -330
    },
    "id": "Yt1pZoIhM3qH",
    "outputId": "a2d76f9c-9013-42de-ed34-7796b223746a"
   },
   "outputs": [
    {
     "name": "stdout",
     "output_type": "stream",
     "text": [
      "False\n",
      "False\n",
      "False\n",
      "True\n"
     ]
    }
   ],
   "source": [
    "a,b = False,True\n",
    "print(a and a)\n",
    "print(a and b)\n",
    "print(b and a)\n",
    "print(b and b)"
   ]
  }
 ],
 "metadata": {
  "colab": {
   "name": "6 DataTypes.ipynb",
   "provenance": [],
   "version": "0.3.2"
  },
  "kernelspec": {
   "display_name": "Python 3",
   "language": "python",
   "name": "python3"
  },
  "language_info": {
   "codemirror_mode": {
    "name": "ipython",
    "version": 3
   },
   "file_extension": ".py",
   "mimetype": "text/x-python",
   "name": "python",
   "nbconvert_exporter": "python",
   "pygments_lexer": "ipython3",
   "version": "3.5.0"
  }
 },
 "nbformat": 4,
 "nbformat_minor": 0
}
