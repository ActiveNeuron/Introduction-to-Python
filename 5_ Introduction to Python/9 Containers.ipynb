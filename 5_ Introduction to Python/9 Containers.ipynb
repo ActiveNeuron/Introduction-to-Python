{
 "cells": [
  {
   "cell_type": "markdown",
   "metadata": {
    "colab_type": "text",
    "deletable": true,
    "editable": true,
    "id": "Wdlu8mFvN-Dd"
   },
   "source": [
    "**Containers**\n",
    "\n",
    "\n",
    "1.   Lists\n",
    "2.   Dictionary\n",
    "3.   Sets\n",
    "4.   Tuples\n"
   ]
  },
  {
   "cell_type": "markdown",
   "metadata": {
    "colab_type": "text",
    "deletable": true,
    "editable": true,
    "id": "RsWdcVIXORA2"
   },
   "source": [
    "**List Operations**\n",
    "\n",
    "\n",
    "1.   Lenght\n",
    "2.   Initial Element\n",
    "3.   Last Element\n",
    "4.   Accessing element by array index\n",
    "5.   Adding elements of different types into the list\n",
    "6.   List concatenation\n",
    "7.   List Repitions\n",
    "8.   Append\n",
    "9.   Nested List (Nested Indexing)\n",
    "10. Enumerate \n",
    "11. zip keyword\n",
    "12.  Pop\n",
    "13.  Clear/Delete\n",
    "14.  Checking the presence of elements\n",
    "15.  Sort\n"
   ]
  },
  {
   "cell_type": "code",
   "execution_count": 0,
   "metadata": {
    "colab": {},
    "colab_type": "code",
    "collapsed": true,
    "deletable": true,
    "editable": true,
    "id": "9mAi6crmOAQO"
   },
   "outputs": [],
   "source": [
    "a = [10,20,30,40,50]\n",
    "print(a)\n",
    "print(a[0])\n",
    "print(a[-1])\n",
    "print(len(a))\n",
    "a[4]='hello'\n",
    "a.append(\"Hi\")\n",
    "print(a)\n",
    "a.pop()\n",
    "print(a)\n",
    "a.clear()\n",
    "print(a)"
   ]
  },
  {
   "cell_type": "code",
   "execution_count": 0,
   "metadata": {
    "colab": {},
    "colab_type": "code",
    "collapsed": true,
    "deletable": true,
    "editable": true,
    "id": "p1JNxTVeOV5e"
   },
   "outputs": [],
   "source": [
    "days = [\"Mon\", \"Tue\", \"Wed\", \"Thu\", \"Fri\", \"Sat\", \"Sun\"]\n",
    "\n",
    "for i,d in enumerate(days):\n",
    "  print(\"day\",i+1,d)"
   ]
  },
  {
   "cell_type": "code",
   "execution_count": 0,
   "metadata": {
    "colab": {},
    "colab_type": "code",
    "collapsed": true,
    "deletable": true,
    "editable": true,
    "id": "EDWxpBcOOb7d"
   },
   "outputs": [],
   "source": [
    "Q = [1,2,3,4,5]\n",
    "M = [10,20,30,40]\n",
    "\n",
    "for i,j in zip(Q,M):\n",
    "  print(\"Question\",1,\"Carries\",j,\"Marks\")"
   ]
  },
  {
   "cell_type": "code",
   "execution_count": 0,
   "metadata": {
    "colab": {},
    "colab_type": "code",
    "collapsed": true,
    "deletable": true,
    "editable": true,
    "id": "uSKtsVxtOb-y"
   },
   "outputs": [],
   "source": [
    "a = [1,2,3]\n",
    "1 in a"
   ]
  },
  {
   "cell_type": "code",
   "execution_count": 0,
   "metadata": {
    "colab": {},
    "colab_type": "code",
    "collapsed": true,
    "deletable": true,
    "editable": true,
    "id": "nSBvt-xPOcCX"
   },
   "outputs": [],
   "source": [
    "a = [4,7,8,1]\n",
    "a.sort()\n",
    "print(a)"
   ]
  },
  {
   "cell_type": "markdown",
   "metadata": {
    "colab_type": "text",
    "deletable": true,
    "editable": true,
    "id": "-yZjODJiOi_o"
   },
   "source": [
    "**Sorting**"
   ]
  },
  {
   "cell_type": "code",
   "execution_count": 1,
   "metadata": {
    "colab": {
     "base_uri": "https://localhost:8080/",
     "height": 35
    },
    "colab_type": "code",
    "collapsed": false,
    "deletable": true,
    "editable": true,
    "executionInfo": {
     "elapsed": 919,
     "status": "ok",
     "timestamp": 1549782380785,
     "user": {
      "displayName": "Deep Learning",
      "photoUrl": "",
      "userId": "06629241092232663195"
     },
     "user_tz": -330
    },
    "id": "RZ-kOwNmOkgP",
    "outputId": "d683c006-18ab-4cb6-8576-c33625b4fb98"
   },
   "outputs": [
    {
     "name": "stdout",
     "output_type": "stream",
     "text": [
      "['a', 'l', 'z']\n"
     ]
    }
   ],
   "source": [
    "a = ['z','a','l']\n",
    "a.sort()\n",
    "print(a)"
   ]
  },
  {
   "cell_type": "markdown",
   "metadata": {
    "colab_type": "text",
    "deletable": true,
    "editable": true,
    "id": "qKFnFGLxOpl3"
   },
   "source": [
    "**Slicing**"
   ]
  },
  {
   "cell_type": "code",
   "execution_count": 23,
   "metadata": {
    "colab": {
     "base_uri": "https://localhost:8080/",
     "height": 126
    },
    "colab_type": "code",
    "collapsed": false,
    "deletable": true,
    "editable": true,
    "executionInfo": {
     "elapsed": 915,
     "status": "ok",
     "timestamp": 1549782427699,
     "user": {
      "displayName": "Deep Learning",
      "photoUrl": "",
      "userId": "06629241092232663195"
     },
     "user_tz": -330
    },
    "id": "ZSjpGzUPOfHw",
    "outputId": "5744cb8a-eff4-455c-f682-15738d9ddccc"
   },
   "outputs": [
    {
     "name": "stdout",
     "output_type": "stream",
     "text": [
      "[0, 1, 2, 3, 4, 5, 6, 7, 8, 9]\n",
      "[2, 3, 4]\n",
      "[2, 3, 4, 5, 6, 7, 8, 9]\n",
      "[0, 1]\n",
      "[0, 1, 2, 3, 4, 5, 6, 7, 8, 9]\n",
      "[0, 1, 2, 3, 4, 5, 6, 7, 8]\n",
      "[0, 1, 2, 3, 4, 5, 6, 7, 8, 9]\n",
      "[0, 2, 4, 6, 8]\n",
      "[1, 3, 5, 7, 9]\n",
      "[9, 8, 7, 6, 5, 4, 3, 2, 1, 0]\n"
     ]
    },
    {
     "data": {
      "text/plain": [
       "list"
      ]
     },
     "execution_count": 23,
     "metadata": {},
     "output_type": "execute_result"
    }
   ],
   "source": [
    "num  = list(range(10))\n",
    "print(num)\n",
    "print(num[2:5])  \n",
    "print(num[2:])\n",
    "print(num[:2])\n",
    "print(num[:])\n",
    "print(num[:-1])\n",
    "print(num[::])\n",
    "print(num[::2])\n",
    "print(num[1::2])\n",
    "print(num[::-1])\n",
    "type(num)"
   ]
  },
  {
   "cell_type": "markdown",
   "metadata": {
    "colab_type": "text",
    "deletable": true,
    "editable": true,
    "id": "velDV-kDO6H4"
   },
   "source": [
    "**List Comprehesion**"
   ]
  },
  {
   "cell_type": "code",
   "execution_count": 5,
   "metadata": {
    "colab": {
     "base_uri": "https://localhost:8080/",
     "height": 35
    },
    "colab_type": "code",
    "collapsed": false,
    "deletable": true,
    "editable": true,
    "executionInfo": {
     "elapsed": 1113,
     "status": "ok",
     "timestamp": 1549782528624,
     "user": {
      "displayName": "Deep Learning",
      "photoUrl": "",
      "userId": "06629241092232663195"
     },
     "user_tz": -330
    },
    "id": "zWTgXfZbOfMB",
    "outputId": "2ef38117-c31f-482e-9324-b1975357f14a"
   },
   "outputs": [
    {
     "name": "stdout",
     "output_type": "stream",
     "text": [
      "[4, 16, 36]\n"
     ]
    }
   ],
   "source": [
    "a= [2,4,6]\n",
    "squares=[]\n",
    "for i in a:\n",
    "  squares.append(i**2)\n",
    "print(squares)"
   ]
  },
  {
   "cell_type": "code",
   "execution_count": 6,
   "metadata": {
    "colab": {
     "base_uri": "https://localhost:8080/",
     "height": 35
    },
    "colab_type": "code",
    "collapsed": false,
    "deletable": true,
    "editable": true,
    "executionInfo": {
     "elapsed": 707,
     "status": "ok",
     "timestamp": 1549782527386,
     "user": {
      "displayName": "Deep Learning",
      "photoUrl": "",
      "userId": "06629241092232663195"
     },
     "user_tz": -330
    },
    "id": "kP-to6RkOfQA",
    "outputId": "90ab9ecd-e657-40b1-8226-61ff7720eb91"
   },
   "outputs": [
    {
     "name": "stdout",
     "output_type": "stream",
     "text": [
      "[4, 16, 36]\n"
     ]
    }
   ],
   "source": [
    "a= [2,4,6]\n",
    "squares = [x ** 2 for x in a]\n",
    "print(squares)"
   ]
  },
  {
   "cell_type": "code",
   "execution_count": 10,
   "metadata": {
    "collapsed": false,
    "deletable": true,
    "editable": true
   },
   "outputs": [
    {
     "name": "stdout",
     "output_type": "stream",
     "text": [
      "[4, 6, 8]\n"
     ]
    }
   ],
   "source": [
    "a= [2,4,6]\n",
    "squares=[x+2 for x in a]\n",
    "print(squares)"
   ]
  },
  {
   "cell_type": "code",
   "execution_count": 6,
   "metadata": {
    "colab": {
     "base_uri": "https://localhost:8080/",
     "height": 72
    },
    "colab_type": "code",
    "collapsed": false,
    "deletable": true,
    "editable": true,
    "executionInfo": {
     "elapsed": 1368,
     "status": "ok",
     "timestamp": 1549782526251,
     "user": {
      "displayName": "Deep Learning",
      "photoUrl": "",
      "userId": "06629241092232663195"
     },
     "user_tz": -330
    },
    "id": "CdieWASzOfTX",
    "outputId": "12e9ab08-207d-43b6-dc8c-cfe76552d1ad"
   },
   "outputs": [
    {
     "name": "stdout",
     "output_type": "stream",
     "text": [
      "4\n",
      "16\n",
      "36\n"
     ]
    }
   ],
   "source": [
    "a = [2,4,6]\n",
    "for i in a:\n",
    "  c = i*i\n",
    "  print(c)\n",
    " "
   ]
  },
  {
   "cell_type": "code",
   "execution_count": 5,
   "metadata": {
    "colab": {
     "base_uri": "https://localhost:8080/",
     "height": 35
    },
    "colab_type": "code",
    "collapsed": false,
    "deletable": true,
    "editable": true,
    "executionInfo": {
     "elapsed": 1432,
     "status": "ok",
     "timestamp": 1549782525397,
     "user": {
      "displayName": "Deep Learning",
      "photoUrl": "",
      "userId": "06629241092232663195"
     },
     "user_tz": -330
    },
    "id": "uEJXZWdDOfWM",
    "outputId": "3d366807-d84f-45cd-db85-19e460f60106"
   },
   "outputs": [
    {
     "name": "stdout",
     "output_type": "stream",
     "text": [
      "[0, 1, 1, 0, 0, 1, 4, 9, 16, 25]\n"
     ]
    }
   ],
   "source": [
    "for i in list(range(6)):\n",
    "  a.append(i**2)  \n",
    "print(a)"
   ]
  },
  {
   "cell_type": "code",
   "execution_count": 4,
   "metadata": {
    "colab": {
     "base_uri": "https://localhost:8080/",
     "height": 35
    },
    "colab_type": "code",
    "collapsed": false,
    "deletable": true,
    "editable": true,
    "executionInfo": {
     "elapsed": 1181,
     "status": "ok",
     "timestamp": 1549782523901,
     "user": {
      "displayName": "Deep Learning",
      "photoUrl": "",
      "userId": "06629241092232663195"
     },
     "user_tz": -330
    },
    "id": "GnKuauvfOfZr",
    "outputId": "3308b72e-b5dc-4786-adf6-364e26b4f4b0"
   },
   "outputs": [
    {
     "data": {
      "text/plain": [
       "[0, 1, 4, 9, 16, 25]"
      ]
     },
     "execution_count": 4,
     "metadata": {
      "tags": []
     },
     "output_type": "execute_result"
    }
   ],
   "source": [
    "A = []\n",
    "for n in range(6):\n",
    "    A.append(n**2)\n",
    "A"
   ]
  },
  {
   "cell_type": "code",
   "execution_count": 11,
   "metadata": {
    "colab": {
     "base_uri": "https://localhost:8080/",
     "height": 35
    },
    "colab_type": "code",
    "collapsed": false,
    "deletable": true,
    "editable": true,
    "executionInfo": {
     "elapsed": 912,
     "status": "ok",
     "timestamp": 1549782522807,
     "user": {
      "displayName": "Deep Learning",
      "photoUrl": "",
      "userId": "06629241092232663195"
     },
     "user_tz": -330
    },
    "id": "14RA_UqIOfft",
    "outputId": "bdec6438-9fbc-46d5-8b70-07bfdb30a259"
   },
   "outputs": [
    {
     "name": "stdout",
     "output_type": "stream",
     "text": [
      "8\n"
     ]
    }
   ],
   "source": [
    "count = 0\n",
    "a  = [0,1,1,0]\n",
    "b  = [1,0,0,1]\n",
    "\n",
    "for i in a:\n",
    "  for j in b:\n",
    "    if(a[i]!=b[j]):\n",
    "      count=count+1\n",
    "print(count)  "
   ]
  },
  {
   "cell_type": "code",
   "execution_count": 17,
   "metadata": {
    "collapsed": false,
    "deletable": true,
    "editable": true
   },
   "outputs": [
    {
     "data": {
      "text/plain": [
       "array([[2, 3, 4, 5],\n",
       "       [3, 4, 5, 6],\n",
       "       [4, 5, 6, 7]])"
      ]
     },
     "execution_count": 17,
     "metadata": {},
     "output_type": "execute_result"
    }
   ],
   "source": [
    "import numpy as np\n",
    "b = np.array([range(i,i+4) for i in [2,3,4]])\n",
    "b"
   ]
  },
  {
   "cell_type": "code",
   "execution_count": 18,
   "metadata": {
    "collapsed": false,
    "deletable": true,
    "editable": true
   },
   "outputs": [
    {
     "data": {
      "text/plain": [
       "[int, int, int, int, int, int, int, int, int, int]"
      ]
     },
     "execution_count": 18,
     "metadata": {},
     "output_type": "execute_result"
    }
   ],
   "source": [
    "a = list(range(10))\n",
    "[type(item) for item in a]"
   ]
  },
  {
   "cell_type": "markdown",
   "metadata": {
    "colab_type": "text",
    "deletable": true,
    "editable": true,
    "id": "6anmA0ehPQB2"
   },
   "source": [
    "**Dictionary**\n",
    "\n",
    "\n",
    "1.   Checking the presence of elements in dictionary\n",
    "2.   Print Keys and Values \n",
    "3.   Print lenght of dictionary\n",
    "4.   Getting the keys from the dictionary\n",
    "5.   Accessing the element which is not present in the list\n",
    "6.   Iterate through dictionary\n",
    "7.   Updating the element in dictionary\n",
    "8.   Delete"
   ]
  },
  {
   "cell_type": "code",
   "execution_count": 9,
   "metadata": {
    "colab": {
     "base_uri": "https://localhost:8080/",
     "height": 181
    },
    "colab_type": "code",
    "collapsed": false,
    "deletable": true,
    "editable": true,
    "executionInfo": {
     "elapsed": 906,
     "status": "ok",
     "timestamp": 1549782563739,
     "user": {
      "displayName": "Deep Learning",
      "photoUrl": "",
      "userId": "06629241092232663195"
     },
     "user_tz": -330
    },
    "id": "JUizq8CdOfnw",
    "outputId": "556cb7d7-757e-4cae-ac77-a1e85b2ed900"
   },
   "outputs": [
    {
     "name": "stdout",
     "output_type": "stream",
     "text": [
      "True\n",
      "False\n",
      "{'a': 1, 'b': 2}\n",
      "dict_values([1, 2])\n",
      "dict_keys(['a', 'b'])\n",
      "2\n",
      "1\n",
      "2\n",
      "{'a': 1, 'b': 2, 'c': 3}\n"
     ]
    }
   ],
   "source": [
    "alpha =  {'a':1,'b':2}\n",
    "print('a' in alpha)\n",
    "print('c' in alpha)\n",
    "\n",
    "print(alpha)\n",
    "print(alpha.values())\n",
    "print(alpha.keys())\n",
    "print(len(alpha))\n",
    "\n",
    "print(alpha['a'])\n",
    "print(alpha['b'])\n",
    "#print(alpha['c'])\n",
    "\n",
    "alpha.update({'c':3})\n",
    "print(alpha)"
   ]
  },
  {
   "cell_type": "code",
   "execution_count": 10,
   "metadata": {
    "colab": {
     "base_uri": "https://localhost:8080/",
     "height": 54
    },
    "colab_type": "code",
    "collapsed": false,
    "deletable": true,
    "editable": true,
    "executionInfo": {
     "elapsed": 901,
     "status": "ok",
     "timestamp": 1549782686852,
     "user": {
      "displayName": "Deep Learning",
      "photoUrl": "",
      "userId": "06629241092232663195"
     },
     "user_tz": -330
    },
    "id": "2mqTMvZCOflt",
    "outputId": "cb416b5c-e90c-4776-da07-f612e8235994"
   },
   "outputs": [
    {
     "name": "stdout",
     "output_type": "stream",
     "text": [
      "Index of alphabet a is 1\n",
      "Index of alphabet b is 2\n"
     ]
    }
   ],
   "source": [
    "alpha =  {'a':1,'b':2}\n",
    "for item in alpha:\n",
    "  c = alpha[item]\n",
    "  print(\"Index of alphabet %s is %d\" %(item, c))"
   ]
  },
  {
   "cell_type": "markdown",
   "metadata": {
    "colab_type": "text",
    "deletable": true,
    "editable": true,
    "id": "AmL9s1J_PzVm"
   },
   "source": [
    "**Task**\n",
    "\n",
    "Question: Form a list from 0-9 and square only even numbers"
   ]
  },
  {
   "cell_type": "code",
   "execution_count": 0,
   "metadata": {
    "colab": {},
    "colab_type": "code",
    "collapsed": true,
    "deletable": true,
    "editable": true,
    "id": "MQy9eX-UOfj_"
   },
   "outputs": [],
   "source": [
    "a = list(range(10))\n",
    "print(a)\n",
    "even = {x: x **2 for x in a if x%2==0}\n",
    "print(even)"
   ]
  },
  {
   "cell_type": "markdown",
   "metadata": {
    "colab_type": "text",
    "deletable": true,
    "editable": true,
    "id": "nCc-C7zwP6nK"
   },
   "source": [
    "**Sets**\n",
    "\n",
    "\n",
    "1.   Check the elements in sets\n",
    "2.   Lenght of sets\n",
    "3.   Add elements to sets \n",
    "4.   Remove the elements from sets\n",
    "5.   Iterate with enumerate\n",
    "6.   Delete"
   ]
  },
  {
   "cell_type": "code",
   "execution_count": 11,
   "metadata": {
    "colab": {
     "base_uri": "https://localhost:8080/",
     "height": 108
    },
    "colab_type": "code",
    "collapsed": false,
    "deletable": true,
    "editable": true,
    "executionInfo": {
     "elapsed": 908,
     "status": "ok",
     "timestamp": 1549783021202,
     "user": {
      "displayName": "Deep Learning",
      "photoUrl": "",
      "userId": "06629241092232663195"
     },
     "user_tz": -330
    },
    "id": "EUyunrWNOfdZ",
    "outputId": "4a3241cc-0e3a-42f9-f4d2-4d42efa29361"
   },
   "outputs": [
    {
     "name": "stdout",
     "output_type": "stream",
     "text": [
      "{'a', 'b'}\n",
      "True\n",
      "False\n",
      "{'a', 'c', 'b'}\n",
      "{'c', 'b'}\n"
     ]
    }
   ],
   "source": [
    "s = {\"b\",\"a\"}\n",
    "print(s)\n",
    "print(\"a\" in s)\n",
    "print(\"z\" in s)\n",
    "a = s.add(\"c\")\n",
    "print(s)\n",
    "a = s.remove(\"a\")\n",
    "print(s)"
   ]
  },
  {
   "cell_type": "code",
   "execution_count": 12,
   "metadata": {
    "colab": {
     "base_uri": "https://localhost:8080/",
     "height": 126
    },
    "colab_type": "code",
    "collapsed": false,
    "deletable": true,
    "editable": true,
    "executionInfo": {
     "elapsed": 891,
     "status": "ok",
     "timestamp": 1549783040472,
     "user": {
      "displayName": "Deep Learning",
      "photoUrl": "",
      "userId": "06629241092232663195"
     },
     "user_tz": -330
    },
    "id": "gHgavG7IRHL-",
    "outputId": "9a371bcb-9a41-41c5-82e7-f00c1c342be7"
   },
   "outputs": [
    {
     "name": "stdout",
     "output_type": "stream",
     "text": [
      "{1, 2, 3, 4}\n",
      "<class 'set'>\n",
      "{1, 2, 3, 4}\n",
      "<class 'set'>\n",
      "{'a', 'b'}\n",
      "<class 'set'>\n"
     ]
    }
   ],
   "source": [
    "a = set((1,2,3,4))\n",
    "print(a)\n",
    "print(type(a))\n",
    "\n",
    "b = set([1,2,3,4])\n",
    "print(b)\n",
    "print(type(b))\n",
    "\n",
    "c = set({'a':1,'b':2})\n",
    "print(c)\n",
    "print(type(c))"
   ]
  },
  {
   "cell_type": "markdown",
   "metadata": {
    "colab_type": "text",
    "deletable": true,
    "editable": true,
    "id": "j-YrcAGzRKya"
   },
   "source": [
    "**Set Operation**\n",
    "\n",
    "\n",
    "1.   Union\n",
    "2.   Intersection\n",
    "3.   Difference"
   ]
  },
  {
   "cell_type": "code",
   "execution_count": 13,
   "metadata": {
    "colab": {
     "base_uri": "https://localhost:8080/",
     "height": 90
    },
    "colab_type": "code",
    "collapsed": false,
    "deletable": true,
    "editable": true,
    "executionInfo": {
     "elapsed": 907,
     "status": "ok",
     "timestamp": 1549783097515,
     "user": {
      "displayName": "Deep Learning",
      "photoUrl": "",
      "userId": "06629241092232663195"
     },
     "user_tz": -330
    },
    "id": "_ne06zsoRPBO",
    "outputId": "976a3801-1c13-4dc6-f13b-5a3eead182ae"
   },
   "outputs": [
    {
     "name": "stdout",
     "output_type": "stream",
     "text": [
      "{1, 2, 3, 4, 6, 7, 8}\n",
      "{1}\n",
      "{2, 3, 4}\n",
      "{8, 6, 7}\n"
     ]
    }
   ],
   "source": [
    "a = set([1,2,3,4])\n",
    "b = set([1,6,7,8])\n",
    "\n",
    "c= a | b\n",
    "print(c)\n",
    "\n",
    "f= a & b\n",
    "print(f)\n",
    "\n",
    "d = a-b\n",
    "print(d)\n",
    "\n",
    "e = b-a\n",
    "print(e)\n"
   ]
  },
  {
   "cell_type": "code",
   "execution_count": 14,
   "metadata": {
    "colab": {
     "base_uri": "https://localhost:8080/",
     "height": 54
    },
    "colab_type": "code",
    "collapsed": false,
    "deletable": true,
    "editable": true,
    "executionInfo": {
     "elapsed": 907,
     "status": "ok",
     "timestamp": 1549783110617,
     "user": {
      "displayName": "Deep Learning",
      "photoUrl": "",
      "userId": "06629241092232663195"
     },
     "user_tz": -330
    },
    "id": "HNWYX66VRYcH",
    "outputId": "00ab9d0c-5d47-4b2f-dd2e-91fe613c32da"
   },
   "outputs": [
    {
     "name": "stdout",
     "output_type": "stream",
     "text": [
      "1: a\n",
      "2: b\n"
     ]
    }
   ],
   "source": [
    "alpha = {'a','b'}\n",
    "for i,alpha in enumerate(alpha):\n",
    "  print(\"%d: %s\" %(i+1,alpha))"
   ]
  },
  {
   "cell_type": "markdown",
   "metadata": {
    "colab_type": "text",
    "deletable": true,
    "editable": true,
    "id": "EJhbl8KFRb0J"
   },
   "source": [
    "**Tuples**\n",
    "\n",
    "\n",
    "1.   Initial element\n",
    "2.   Final Element\n",
    "3.   Lenght of tuple\n",
    "4.   Delete Tuples\n",
    "  "
   ]
  },
  {
   "cell_type": "code",
   "execution_count": 4,
   "metadata": {
    "collapsed": false,
    "deletable": true,
    "editable": true
   },
   "outputs": [
    {
     "name": "stdout",
     "output_type": "stream",
     "text": [
      "<class 'tuple'>\n",
      "4\n",
      "4\n"
     ]
    }
   ],
   "source": [
    "a = (1,2,3,4)\n",
    "print(type(a))\n",
    "\n",
    "print(a[-1])\n",
    "\n",
    "print(len(a))\n",
    "\n",
    "del a"
   ]
  },
  {
   "cell_type": "code",
   "execution_count": null,
   "metadata": {
    "collapsed": true,
    "deletable": true,
    "editable": true
   },
   "outputs": [],
   "source": []
  }
 ],
 "metadata": {
  "colab": {
   "name": "9 Containers.ipynb",
   "provenance": [],
   "version": "0.3.2"
  },
  "kernelspec": {
   "display_name": "Python 3",
   "language": "python",
   "name": "python3"
  },
  "language_info": {
   "codemirror_mode": {
    "name": "ipython",
    "version": 3
   },
   "file_extension": ".py",
   "mimetype": "text/x-python",
   "name": "python",
   "nbconvert_exporter": "python",
   "pygments_lexer": "ipython3",
   "version": "3.5.0"
  }
 },
 "nbformat": 4,
 "nbformat_minor": 1
}
