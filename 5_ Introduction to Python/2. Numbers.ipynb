{
 "cells": [
  {
   "cell_type": "markdown",
   "metadata": {
    "colab_type": "text",
    "deletable": true,
    "editable": true,
    "id": "2TyXsjNBIwaA"
   },
   "source": [
    "**Numbers**\n",
    "\n",
    "\n",
    "1.   Long decimal value\n",
    "2.   Comparing operator\n",
    "3.   Decimal point(1,2,3)\n",
    "4.   Floor\n",
    "5.   Percentage\n",
    "6.   Absolute\n",
    "7.   Increment\n",
    "8.   Unary Increment does nor work\n",
    "9.   Type Conversion\n",
    "10.  Thounsand Seperator using format\n",
    "11.  Percentage using format\n",
    "12.  mean\n",
    "13.  Number-Theoretic and Representation Functions\n",
    "14.  Numberas with different data format"
   ]
  },
  {
   "cell_type": "code",
   "execution_count": 6,
   "metadata": {
    "collapsed": false
   },
   "outputs": [],
   "source": [
    "import numpy as np\n",
    "a = 10.0"
   ]
  },
  {
   "cell_type": "code",
   "execution_count": 0,
   "metadata": {
    "colab": {
     "base_uri": "https://localhost:8080/",
     "height": 35
    },
    "colab_type": "code",
    "collapsed": false,
    "deletable": true,
    "editable": true,
    "executionInfo": {
     "elapsed": 1131,
     "status": "ok",
     "timestamp": 1549780971150,
     "user": {
      "displayName": "Deep Learning",
      "photoUrl": "",
      "userId": "06629241092232663195"
     },
     "user_tz": -330
    },
    "id": "j9bAxX5VIxKn",
    "outputId": "5eec5d5e-0667-4eb3-e273-ea3c980f726c"
   },
   "outputs": [
    {
     "data": {
      "text/plain": [
       "0.1"
      ]
     },
     "execution_count": 1,
     "metadata": {
      "tags": []
     },
     "output_type": "execute_result"
    }
   ],
   "source": [
    "0.10000000000000001"
   ]
  },
  {
   "cell_type": "code",
   "execution_count": 0,
   "metadata": {
    "colab": {
     "base_uri": "https://localhost:8080/",
     "height": 35
    },
    "colab_type": "code",
    "collapsed": false,
    "deletable": true,
    "editable": true,
    "executionInfo": {
     "elapsed": 687,
     "status": "ok",
     "timestamp": 1549780971162,
     "user": {
      "displayName": "Deep Learning",
      "photoUrl": "",
      "userId": "06629241092232663195"
     },
     "user_tz": -330
    },
    "id": "TenMlctuI1Fv",
    "outputId": "8c3523e6-404d-471c-f93d-f8cadd054b22"
   },
   "outputs": [
    {
     "data": {
      "text/plain": [
       "False"
      ]
     },
     "execution_count": 2,
     "metadata": {
      "tags": []
     },
     "output_type": "execute_result"
    }
   ],
   "source": [
    "0.10000000000000001 > 0.1"
   ]
  },
  {
   "cell_type": "code",
   "execution_count": 1,
   "metadata": {
    "colab": {
     "base_uri": "https://localhost:8080/",
     "height": 72
    },
    "colab_type": "code",
    "collapsed": false,
    "deletable": true,
    "editable": true,
    "executionInfo": {
     "elapsed": 902,
     "status": "ok",
     "timestamp": 1549780973736,
     "user": {
      "displayName": "Deep Learning",
      "photoUrl": "",
      "userId": "06629241092232663195"
     },
     "user_tz": -330
    },
    "id": "eeMILitJI1I4",
    "outputId": "d4fb0c2d-8279-4011-ee35-627231299c75"
   },
   "outputs": [
    {
     "name": "stdout",
     "output_type": "stream",
     "text": [
      "23.5\n",
      "23.46\n",
      "23.457\n"
     ]
    }
   ],
   "source": [
    "x = 23.45741\n",
    "y = format(x, '.1f')  # Round x to one digits after the decimal point.\n",
    "print(y)\n",
    "\n",
    "y1 = format(x, '.2f')  # Round x to two digits after the decimal point.\n",
    "print(y1)\n",
    "\n",
    "y2 = format(x, '.3f')  # Round x to two digits after the decimal point.\n",
    "print(y2)"
   ]
  },
  {
   "cell_type": "code",
   "execution_count": 4,
   "metadata": {
    "colab": {
     "base_uri": "https://localhost:8080/",
     "height": 72
    },
    "colab_type": "code",
    "collapsed": false,
    "deletable": true,
    "editable": true,
    "executionInfo": {
     "elapsed": 880,
     "status": "ok",
     "timestamp": 1549780976070,
     "user": {
      "displayName": "Deep Learning",
      "photoUrl": "",
      "userId": "06629241092232663195"
     },
     "user_tz": -330
    },
    "id": "3uji9L-HI1LS",
    "outputId": "0253f06a-405b-4b71-e25e-9ead5678d81f"
   },
   "outputs": [
    {
     "name": "stdout",
     "output_type": "stream",
     "text": [
      "-2.5\n",
      "2\n",
      "2.5\n"
     ]
    }
   ],
   "source": [
    "print(5 / 2)\n",
    "print(5 // 2)\n",
    "\n",
    "print(abs((-5 / 2)))"
   ]
  },
  {
   "cell_type": "code",
   "execution_count": 0,
   "metadata": {
    "colab": {
     "base_uri": "https://localhost:8080/",
     "height": 35
    },
    "colab_type": "code",
    "collapsed": false,
    "deletable": true,
    "editable": true,
    "executionInfo": {
     "elapsed": 879,
     "status": "ok",
     "timestamp": 1549780978755,
     "user": {
      "displayName": "Deep Learning",
      "photoUrl": "",
      "userId": "06629241092232663195"
     },
     "user_tz": -330
    },
    "id": "MDRs6UYLI1OJ",
    "outputId": "2cce4b97-6360-47ba-ac2b-ebd8332478b7"
   },
   "outputs": [
    {
     "name": "stdout",
     "output_type": "stream",
     "text": [
      "11\n"
     ]
    }
   ],
   "source": [
    "x = 10\n",
    "x+=1\n",
    "print(x)"
   ]
  },
  {
   "cell_type": "code",
   "execution_count": 0,
   "metadata": {
    "colab": {
     "base_uri": "https://localhost:8080/",
     "height": 35
    },
    "colab_type": "code",
    "collapsed": false,
    "deletable": true,
    "editable": true,
    "executionInfo": {
     "elapsed": 713,
     "status": "ok",
     "timestamp": 1549780979091,
     "user": {
      "displayName": "Deep Learning",
      "photoUrl": "",
      "userId": "06629241092232663195"
     },
     "user_tz": -330
    },
    "id": "UfXKgw7XI1RF",
    "outputId": "902e88d4-b9f1-4382-b136-5b9e71c654b9"
   },
   "outputs": [
    {
     "name": "stdout",
     "output_type": "stream",
     "text": [
      "11 9 20 5.0\n"
     ]
    }
   ],
   "source": [
    "x  = 10\n",
    "print(x+1,x-1,x*2,x/2)"
   ]
  },
  {
   "cell_type": "code",
   "execution_count": 0,
   "metadata": {
    "colab": {},
    "colab_type": "code",
    "collapsed": true,
    "deletable": true,
    "editable": true,
    "id": "rwEAh0kPI1Vw"
   },
   "outputs": [],
   "source": [
    "#x=3\n",
    "#x++\n",
    "#print(x)"
   ]
  },
  {
   "cell_type": "code",
   "execution_count": 0,
   "metadata": {
    "colab": {
     "base_uri": "https://localhost:8080/",
     "height": 72
    },
    "colab_type": "code",
    "collapsed": false,
    "deletable": true,
    "editable": true,
    "executionInfo": {
     "elapsed": 660,
     "status": "ok",
     "timestamp": 1549780982951,
     "user": {
      "displayName": "Deep Learning",
      "photoUrl": "",
      "userId": "06629241092232663195"
     },
     "user_tz": -330
    },
    "id": "j8ud2DndI1Yf",
    "outputId": "defb41f0-1ec4-4308-a044-beb12c09c650"
   },
   "outputs": [
    {
     "name": "stdout",
     "output_type": "stream",
     "text": [
      "2\n",
      "2.5\n",
      "2\n"
     ]
    }
   ],
   "source": [
    "a = (5/2)\n",
    "print(int(a))\n",
    "print(float(a))\n",
    "print(round(a))"
   ]
  },
  {
   "cell_type": "code",
   "execution_count": 0,
   "metadata": {
    "colab": {},
    "colab_type": "code",
    "collapsed": true,
    "deletable": true,
    "editable": true,
    "id": "GevsRzReI1dc"
   },
   "outputs": [],
   "source": [
    "x = 11234567.89\n",
    "x"
   ]
  },
  {
   "cell_type": "code",
   "execution_count": 0,
   "metadata": {
    "colab": {
     "base_uri": "https://localhost:8080/",
     "height": 35
    },
    "colab_type": "code",
    "collapsed": false,
    "deletable": true,
    "editable": true,
    "executionInfo": {
     "elapsed": 1107,
     "status": "ok",
     "timestamp": 1549780986216,
     "user": {
      "displayName": "Deep Learning",
      "photoUrl": "",
      "userId": "06629241092232663195"
     },
     "user_tz": -330
    },
    "id": "Mb6ZvrzjI1bz",
    "outputId": "7efd6f51-29c8-4694-944c-dd2d4b14c394"
   },
   "outputs": [
    {
     "data": {
      "text/plain": [
       "'10'"
      ]
     },
     "execution_count": 9,
     "metadata": {
      "tags": []
     },
     "output_type": "execute_result"
    }
   ],
   "source": [
    "y = '{:,}'.format(x)\n",
    "y"
   ]
  },
  {
   "cell_type": "code",
   "execution_count": 0,
   "metadata": {
    "colab": {
     "base_uri": "https://localhost:8080/",
     "height": 35
    },
    "colab_type": "code",
    "collapsed": false,
    "deletable": true,
    "editable": true,
    "executionInfo": {
     "elapsed": 640,
     "status": "ok",
     "timestamp": 1549780986218,
     "user": {
      "displayName": "Deep Learning",
      "photoUrl": "",
      "userId": "06629241092232663195"
     },
     "user_tz": -330
    },
    "id": "f8AhNmCxI1UE",
    "outputId": "906aaf47-2c50-42e0-8a3a-cfb0e96ea8d2"
   },
   "outputs": [
    {
     "name": "stdout",
     "output_type": "stream",
     "text": [
      "64.000000%\n"
     ]
    }
   ],
   "source": [
    "x= 0.64\n",
    "y = '{:%}'.format(x)\n",
    "print(y)"
   ]
  },
  {
   "cell_type": "code",
   "execution_count": 0,
   "metadata": {
    "colab": {
     "base_uri": "https://localhost:8080/",
     "height": 35
    },
    "colab_type": "code",
    "collapsed": false,
    "deletable": true,
    "editable": true,
    "executionInfo": {
     "elapsed": 1100,
     "status": "ok",
     "timestamp": 1549780987286,
     "user": {
      "displayName": "Deep Learning",
      "photoUrl": "",
      "userId": "06629241092232663195"
     },
     "user_tz": -330
    },
    "id": "Rk2CgBXkJNT3",
    "outputId": "da659eb3-d0f4-48db-8f87-3e62f0b5ec70"
   },
   "outputs": [
    {
     "name": "stdout",
     "output_type": "stream",
     "text": [
      "2.5\n"
     ]
    }
   ],
   "source": [
    "import numpy as np\n",
    "a = [1,2,3,4]\n",
    "print(np.mean(a))"
   ]
  },
  {
   "cell_type": "markdown",
   "metadata": {
    "colab_type": "text",
    "deletable": true,
    "editable": true,
    "id": "tnSg6WikKJe6"
   },
   "source": [
    "**Number-Theoretic and Representation Functions**\n",
    "\n",
    "\n",
    "1.   Ceiling\n",
    "2.   Floor\n",
    "3.   Factorial\n",
    "4.   gcd\n"
   ]
  },
  {
   "cell_type": "code",
   "execution_count": 14,
   "metadata": {
    "colab": {
     "base_uri": "https://localhost:8080/",
     "height": 35
    },
    "colab_type": "code",
    "collapsed": false,
    "deletable": true,
    "editable": true,
    "executionInfo": {
     "elapsed": 908,
     "status": "ok",
     "timestamp": 1549781289203,
     "user": {
      "displayName": "Deep Learning",
      "photoUrl": "",
      "userId": "06629241092232663195"
     },
     "user_tz": -330
    },
    "id": "9G6MxTzjKRII",
    "outputId": "ecd66ca5-3281-493f-fe58-1e2ce4807213"
   },
   "outputs": [
    {
     "name": "stdout",
     "output_type": "stream",
     "text": [
      "5\n"
     ]
    }
   ],
   "source": [
    "import math\n",
    "print(math.ceil(4.5))"
   ]
  },
  {
   "cell_type": "code",
   "execution_count": 15,
   "metadata": {
    "colab": {
     "base_uri": "https://localhost:8080/",
     "height": 35
    },
    "colab_type": "code",
    "collapsed": false,
    "deletable": true,
    "editable": true,
    "executionInfo": {
     "elapsed": 1064,
     "status": "ok",
     "timestamp": 1549781290379,
     "user": {
      "displayName": "Deep Learning",
      "photoUrl": "",
      "userId": "06629241092232663195"
     },
     "user_tz": -330
    },
    "id": "5m3lisrgKRL6",
    "outputId": "dfca0f29-9f0a-41f3-f6fb-ff31595b8b3b"
   },
   "outputs": [
    {
     "name": "stdout",
     "output_type": "stream",
     "text": [
      "4\n"
     ]
    }
   ],
   "source": [
    "print(math.floor(4.5))"
   ]
  },
  {
   "cell_type": "code",
   "execution_count": 16,
   "metadata": {
    "colab": {
     "base_uri": "https://localhost:8080/",
     "height": 35
    },
    "colab_type": "code",
    "collapsed": false,
    "deletable": true,
    "editable": true,
    "executionInfo": {
     "elapsed": 1101,
     "status": "ok",
     "timestamp": 1549781293791,
     "user": {
      "displayName": "Deep Learning",
      "photoUrl": "",
      "userId": "06629241092232663195"
     },
     "user_tz": -330
    },
    "id": "KT5BJZNFKRRl",
    "outputId": "106d73e2-47a8-4a50-d652-9aa0613b6911"
   },
   "outputs": [
    {
     "name": "stdout",
     "output_type": "stream",
     "text": [
      "120\n"
     ]
    }
   ],
   "source": [
    "print(math.factorial(5))"
   ]
  },
  {
   "cell_type": "code",
   "execution_count": 17,
   "metadata": {
    "colab": {
     "base_uri": "https://localhost:8080/",
     "height": 35
    },
    "colab_type": "code",
    "collapsed": false,
    "deletable": true,
    "editable": true,
    "executionInfo": {
     "elapsed": 879,
     "status": "ok",
     "timestamp": 1549781294106,
     "user": {
      "displayName": "Deep Learning",
      "photoUrl": "",
      "userId": "06629241092232663195"
     },
     "user_tz": -330
    },
    "id": "bhAJs_aZKRXP",
    "outputId": "7a4b3a8d-c3d3-4990-e4ca-7c4b2581b403"
   },
   "outputs": [
    {
     "name": "stdout",
     "output_type": "stream",
     "text": [
      "5\n"
     ]
    }
   ],
   "source": [
    "print(math.gcd(35,40))"
   ]
  },
  {
   "cell_type": "markdown",
   "metadata": {},
   "source": [
    "#### Numbers  with  different data format\n",
    "- int8\n",
    "- int16\n",
    "- int32\n",
    "- int64\n",
    "- uint8\n",
    "- uint16\n",
    "- unit32\n",
    "- uint64\n",
    "- float8\n",
    "- float16\n",
    "- float32\n",
    "- float64\n",
    "- complex\n",
    "- complex64\n",
    "- complex128"
   ]
  },
  {
   "cell_type": "code",
   "execution_count": 13,
   "metadata": {
    "collapsed": true
   },
   "outputs": [],
   "source": [
    "a = np.array([[1,2],[3,4]], dtype = 'float16')"
   ]
  },
  {
   "cell_type": "code",
   "execution_count": 14,
   "metadata": {
    "collapsed": false
   },
   "outputs": [
    {
     "data": {
      "text/plain": [
       "dtype('float16')"
      ]
     },
     "execution_count": 14,
     "metadata": {},
     "output_type": "execute_result"
    }
   ],
   "source": [
    "a.dtype"
   ]
  },
  {
   "cell_type": "code",
   "execution_count": null,
   "metadata": {
    "collapsed": true
   },
   "outputs": [],
   "source": []
  }
 ],
 "metadata": {
  "colab": {
   "collapsed_sections": [],
   "name": "2. Numbers.ipynb",
   "provenance": [],
   "version": "0.3.2"
  },
  "kernelspec": {
   "display_name": "Python 3",
   "language": "python",
   "name": "python3"
  },
  "language_info": {
   "codemirror_mode": {
    "name": "ipython",
    "version": 3
   },
   "file_extension": ".py",
   "mimetype": "text/x-python",
   "name": "python",
   "nbconvert_exporter": "python",
   "pygments_lexer": "ipython3",
   "version": "3.5.0"
  }
 },
 "nbformat": 4,
 "nbformat_minor": 0
}
