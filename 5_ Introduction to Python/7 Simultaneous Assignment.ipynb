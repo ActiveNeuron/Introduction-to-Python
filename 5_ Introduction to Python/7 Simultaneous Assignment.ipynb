{
 "cells": [
  {
   "cell_type": "markdown",
   "metadata": {
    "colab_type": "text",
    "deletable": true,
    "editable": true,
    "id": "_A7LshKbNJcf"
   },
   "source": [
    "**Simultaneous Assignments**\n",
    "\n",
    "\n",
    "1.   Assignment\n",
    "2.   Arithmatica operations by simultaneous assignment\n",
    "3.   Swaping the digits by assignment\n",
    "4.  Compare the swaping by using temp and assignment"
   ]
  },
  {
   "cell_type": "code",
   "execution_count": 1,
   "metadata": {
    "colab": {
     "base_uri": "https://localhost:8080/",
     "height": 163
    },
    "colab_type": "code",
    "collapsed": false,
    "deletable": true,
    "editable": true,
    "executionInfo": {
     "elapsed": 974,
     "status": "ok",
     "timestamp": 1549782025606,
     "user": {
      "displayName": "Deep Learning",
      "photoUrl": "",
      "userId": "06629241092232663195"
     },
     "user_tz": -330
    },
    "id": "SrNuGMIaNKIn",
    "outputId": "332a6028-bb95-45d6-acf4-416b67c6b8b4"
   },
   "outputs": [
    {
     "name": "stdout",
     "output_type": "stream",
     "text": [
      "11\n",
      "-1 1\n",
      "before 5 10\n",
      "after 10 5\n",
      "before a is 5\n",
      "before a is  10\n",
      "after a is 10\n",
      "afetr b is 5\n"
     ]
    }
   ],
   "source": [
    "a,b = 5,6\n",
    "print(a+b)\n",
    "\n",
    "a,b = a-b,b-a\n",
    "print(a,b)\n",
    "\n",
    "a,b = 5,10\n",
    "print(\"before\",a,b)\n",
    "b,a = 5,10\n",
    "print(\"after\",a,b)\n",
    "\n",
    "a = 5\n",
    "b = 10\n",
    "print(\"before a is\",a)\n",
    "print(\"before a is \",b)\n",
    "temp = a\n",
    "a = b\n",
    "b = temp\n",
    "print(\"after a is\",a)\n",
    "print(\"afetr b is\",b)"
   ]
  }
 ],
 "metadata": {
  "colab": {
   "collapsed_sections": [],
   "name": "7 Simultaneous Assignment.ipynb",
   "provenance": [],
   "version": "0.3.2"
  },
  "kernelspec": {
   "display_name": "Python 3",
   "language": "python",
   "name": "python3"
  },
  "language_info": {
   "codemirror_mode": {
    "name": "ipython",
    "version": 3
   },
   "file_extension": ".py",
   "mimetype": "text/x-python",
   "name": "python",
   "nbconvert_exporter": "python",
   "pygments_lexer": "ipython3",
   "version": "3.5.0"
  }
 },
 "nbformat": 4,
 "nbformat_minor": 0
}
